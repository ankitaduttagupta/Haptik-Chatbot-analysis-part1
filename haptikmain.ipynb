{
 "cells": [
  {
   "cell_type": "code",
   "execution_count": 125,
   "metadata": {},
   "outputs": [],
   "source": [
    "import pandas as pd\n",
    "import os\n",
    "import numpy as np\n",
    "import warnings\n",
    "import matplotlib.pyplot as plt\n",
    "warnings.filterwarnings(\"ignore\")\n",
    "%matplotlib inline\n",
    "\n",
    "\n",
    "#read data here\n",
    "df=pd.read_csv('C:/Users/RUPA/Downloads/haptiktraindata.csv')"
   ]
  },
  {
   "cell_type": "code",
   "execution_count": 126,
   "metadata": {},
   "outputs": [
    {
     "data": {
      "text/html": [
       "<div>\n",
       "<style scoped>\n",
       "    .dataframe tbody tr th:only-of-type {\n",
       "        vertical-align: middle;\n",
       "    }\n",
       "\n",
       "    .dataframe tbody tr th {\n",
       "        vertical-align: top;\n",
       "    }\n",
       "\n",
       "    .dataframe thead th {\n",
       "        text-align: right;\n",
       "    }\n",
       "</style>\n",
       "<table border=\"1\" class=\"dataframe\">\n",
       "  <thead>\n",
       "    <tr style=\"text-align: right;\">\n",
       "      <th></th>\n",
       "      <th>message</th>\n",
       "      <th>food</th>\n",
       "      <th>recharge</th>\n",
       "      <th>support</th>\n",
       "      <th>reminders</th>\n",
       "      <th>travel</th>\n",
       "      <th>nearby</th>\n",
       "      <th>movies</th>\n",
       "      <th>casual</th>\n",
       "      <th>other</th>\n",
       "    </tr>\n",
       "  </thead>\n",
       "  <tbody>\n",
       "    <tr>\n",
       "      <th>0</th>\n",
       "      <td>7am everyday</td>\n",
       "      <td>F</td>\n",
       "      <td>F</td>\n",
       "      <td>F</td>\n",
       "      <td>T</td>\n",
       "      <td>F</td>\n",
       "      <td>F</td>\n",
       "      <td>F</td>\n",
       "      <td>F</td>\n",
       "      <td>F</td>\n",
       "    </tr>\n",
       "    <tr>\n",
       "      <th>1</th>\n",
       "      <td>chocolate cake</td>\n",
       "      <td>T</td>\n",
       "      <td>F</td>\n",
       "      <td>F</td>\n",
       "      <td>F</td>\n",
       "      <td>F</td>\n",
       "      <td>F</td>\n",
       "      <td>F</td>\n",
       "      <td>F</td>\n",
       "      <td>F</td>\n",
       "    </tr>\n",
       "    <tr>\n",
       "      <th>2</th>\n",
       "      <td>closed mortice and tenon joint door dimentions</td>\n",
       "      <td>F</td>\n",
       "      <td>F</td>\n",
       "      <td>T</td>\n",
       "      <td>F</td>\n",
       "      <td>F</td>\n",
       "      <td>F</td>\n",
       "      <td>F</td>\n",
       "      <td>F</td>\n",
       "      <td>F</td>\n",
       "    </tr>\n",
       "    <tr>\n",
       "      <th>3</th>\n",
       "      <td>train eppo kelambum</td>\n",
       "      <td>F</td>\n",
       "      <td>F</td>\n",
       "      <td>F</td>\n",
       "      <td>F</td>\n",
       "      <td>T</td>\n",
       "      <td>F</td>\n",
       "      <td>F</td>\n",
       "      <td>F</td>\n",
       "      <td>F</td>\n",
       "    </tr>\n",
       "    <tr>\n",
       "      <th>4</th>\n",
       "      <td>yesterday i have cancelled the flight ticket</td>\n",
       "      <td>F</td>\n",
       "      <td>F</td>\n",
       "      <td>F</td>\n",
       "      <td>F</td>\n",
       "      <td>T</td>\n",
       "      <td>F</td>\n",
       "      <td>F</td>\n",
       "      <td>F</td>\n",
       "      <td>F</td>\n",
       "    </tr>\n",
       "  </tbody>\n",
       "</table>\n",
       "</div>"
      ],
      "text/plain": [
       "                                          message food recharge support  \\\n",
       "0                                    7am everyday    F        F       F   \n",
       "1                                  chocolate cake    T        F       F   \n",
       "2  closed mortice and tenon joint door dimentions    F        F       T   \n",
       "3                             train eppo kelambum    F        F       F   \n",
       "4    yesterday i have cancelled the flight ticket    F        F       F   \n",
       "\n",
       "  reminders travel nearby movies casual other  \n",
       "0         T      F      F      F      F     F  \n",
       "1         F      F      F      F      F     F  \n",
       "2         F      F      F      F      F     F  \n",
       "3         F      T      F      F      F     F  \n",
       "4         F      T      F      F      F     F  "
      ]
     },
     "execution_count": 126,
     "metadata": {},
     "output_type": "execute_result"
    }
   ],
   "source": [
    "df.head(5)"
   ]
  },
  {
   "cell_type": "code",
   "execution_count": 127,
   "metadata": {},
   "outputs": [
    {
     "data": {
      "text/plain": [
       "message      0\n",
       "food         0\n",
       "recharge     0\n",
       "support      0\n",
       "reminders    0\n",
       "travel       0\n",
       "nearby       0\n",
       "movies       0\n",
       "casual       0\n",
       "other        0\n",
       "dtype: int64"
      ]
     },
     "execution_count": 127,
     "metadata": {},
     "output_type": "execute_result"
    }
   ],
   "source": [
    "df.isnull().sum()\n",
    "# no null data"
   ]
  },
  {
   "cell_type": "markdown",
   "metadata": {},
   "source": [
    "## Having a look at this dataframe, it's evident that there are multiple categories and depending on the message, each category for that particular message has been encoded as a True and the rest False. Which means, per message, there can be only one category which holds true."
   ]
  },
  {
   "cell_type": "code",
   "execution_count": 128,
   "metadata": {},
   "outputs": [],
   "source": [
    "def label_race (row):\n",
    "    '''\n",
    "       Informal reverse of One Hot Encoding\n",
    "       ---------\n",
    "       Parameters- row\n",
    "       ---------\n",
    "       Function-Checks every row for a category marked with True\n",
    "       and returns name of the first category\n",
    "    '''\n",
    "    if row['food'] == \"T\":\n",
    "        return 'food'\n",
    "    elif row['recharge'] == \"T\":\n",
    "        return 'recharge'\n",
    "    elif row['support'] == \"T\":\n",
    "        return 'support'\n",
    "    elif row['reminders'] == \"T\":\n",
    "        return 'reminders'\n",
    "    elif row['travel'] == \"T\":\n",
    "        return 'travel'\n",
    "    elif row['nearby'] == \"T\":\n",
    "        return 'nearby'\n",
    "    elif row['movies'] == \"T\":\n",
    "        return 'movies'\n",
    "    elif row['casual'] == \"T\":\n",
    "        return 'casual'\n",
    "    else:\n",
    "        return \"other\"\n"
   ]
  },
  {
   "cell_type": "code",
   "execution_count": 129,
   "metadata": {},
   "outputs": [],
   "source": [
    "# apply label_race() funtion to the columns , add new col 'category' to dataframe\n",
    "df['category']=df.apply(lambda row: label_race(row),axis=1)\n",
    "\n",
    "# drop the other columns\n",
    "drp_col=[\"food\", \"recharge\", \"support\", \"reminders\", \"nearby\", \"movies\", \"casual\", \"other\", \"travel\"]\n",
    "df=df.drop(drp_col,1)\n"
   ]
  },
  {
   "cell_type": "code",
   "execution_count": 130,
   "metadata": {},
   "outputs": [
    {
     "data": {
      "text/html": [
       "<div>\n",
       "<style scoped>\n",
       "    .dataframe tbody tr th:only-of-type {\n",
       "        vertical-align: middle;\n",
       "    }\n",
       "\n",
       "    .dataframe tbody tr th {\n",
       "        vertical-align: top;\n",
       "    }\n",
       "\n",
       "    .dataframe thead th {\n",
       "        text-align: right;\n",
       "    }\n",
       "</style>\n",
       "<table border=\"1\" class=\"dataframe\">\n",
       "  <thead>\n",
       "    <tr style=\"text-align: right;\">\n",
       "      <th></th>\n",
       "      <th>message</th>\n",
       "      <th>category</th>\n",
       "    </tr>\n",
       "  </thead>\n",
       "  <tbody>\n",
       "    <tr>\n",
       "      <th>0</th>\n",
       "      <td>7am everyday</td>\n",
       "      <td>reminders</td>\n",
       "    </tr>\n",
       "    <tr>\n",
       "      <th>1</th>\n",
       "      <td>chocolate cake</td>\n",
       "      <td>food</td>\n",
       "    </tr>\n",
       "    <tr>\n",
       "      <th>2</th>\n",
       "      <td>closed mortice and tenon joint door dimentions</td>\n",
       "      <td>support</td>\n",
       "    </tr>\n",
       "    <tr>\n",
       "      <th>3</th>\n",
       "      <td>train eppo kelambum</td>\n",
       "      <td>travel</td>\n",
       "    </tr>\n",
       "    <tr>\n",
       "      <th>4</th>\n",
       "      <td>yesterday i have cancelled the flight ticket</td>\n",
       "      <td>travel</td>\n",
       "    </tr>\n",
       "  </tbody>\n",
       "</table>\n",
       "</div>"
      ],
      "text/plain": [
       "                                          message   category\n",
       "0                                    7am everyday  reminders\n",
       "1                                  chocolate cake       food\n",
       "2  closed mortice and tenon joint door dimentions    support\n",
       "3                             train eppo kelambum     travel\n",
       "4    yesterday i have cancelled the flight ticket     travel"
      ]
     },
     "execution_count": 130,
     "metadata": {},
     "output_type": "execute_result"
    }
   ],
   "source": [
    "df.head(5)"
   ]
  },
  {
   "cell_type": "markdown",
   "metadata": {},
   "source": [
    "## Next step:\n",
    "1. To convert this textual data to Vectors , to apply ML algos.\n",
    "2. Employ a normal **TF-IDF vectorizer** to vectorize the message column and label encode the category column, essentially making it a classification problem."
   ]
  },
  {
   "cell_type": "code",
   "execution_count": 131,
   "metadata": {},
   "outputs": [
    {
     "data": {
      "text/plain": [
       "support      1000\n",
       "other        1000\n",
       "casual       1000\n",
       "nearby       1000\n",
       "travel       1000\n",
       "food         1000\n",
       "recharge     1000\n",
       "reminders    1000\n",
       "movies       1000\n",
       "Name: category, dtype: int64"
      ]
     },
     "execution_count": 131,
     "metadata": {},
     "output_type": "execute_result"
    }
   ],
   "source": [
    "from sklearn.feature_extraction.text import TfidfVectorizer\n",
    "from sklearn.preprocessing import LabelEncoder\n",
    "\n",
    "# Sampling only 1000 samples of each category because \n",
    "df = df.groupby('category').apply(lambda x: x.sample(n=1000, random_state=0))\n",
    "df.category.value_counts()"
   ]
  },
  {
   "cell_type": "code",
   "execution_count": 132,
   "metadata": {},
   "outputs": [],
   "source": [
    "# Converting all messages to lower case and storing it\n",
    "all_text = df[\"message\"].str.lower()\n",
    "\n",
    "# Initialising TF-IDF object\n",
    "tfidf = TfidfVectorizer(stop_words=\"english\")\n",
    "\n",
    "# Vectorizing data\n",
    "tfidf.fit(all_text)\n",
    "\n",
    "# Storing the TF-IDF vectorized data into an array\n",
    "X = tfidf.transform(all_text).toarray()\n",
    "\n",
    "# Initiating a label encoder object\n",
    "le = LabelEncoder()\n",
    "\n",
    "# Fitting the label encoder object on the data\n",
    "le.fit(df[\"category\"])\n",
    "\n",
    "# Transforming the data and storing it\n",
    "y = le.transform(df[\"category\"])"
   ]
  },
  {
   "cell_type": "code",
   "execution_count": 133,
   "metadata": {},
   "outputs": [
    {
     "name": "stdout",
     "output_type": "stream",
     "text": [
      "0.7066666666666667 is the accuracy of the logistic regression model\n"
     ]
    }
   ],
   "source": [
    "from sklearn.metrics import accuracy_score, classification_report\n",
    "from sklearn.model_selection import train_test_split\n",
    "\n",
    "from sklearn.linear_model import LogisticRegression\n",
    "# Splitting the data into train and test sets\n",
    "X_train, X_val,y_train, y_val = train_test_split(X,y, test_size = 0.3, random_state = 42)\n",
    "\n",
    "# Implementing Logistic Regression model\n",
    "log_reg = LogisticRegression(random_state=0)\n",
    "log_reg.fit(X_train,y_train)\n",
    "y_pred = log_reg.predict(X_val)\n",
    "log_accuracy = accuracy_score(y_val,y_pred)\n",
    "print (str(log_accuracy)+(\" is the accuracy of the logistic regression model\"))\n",
    "\n"
   ]
  },
  {
   "cell_type": "code",
   "execution_count": 134,
   "metadata": {},
   "outputs": [
    {
     "name": "stdout",
     "output_type": "stream",
     "text": [
      "0.7114814814814815 is the accuracy of the Naive Bayes model\n",
      "0.7125925925925926 is the accuracy of the LinearSVC model\n"
     ]
    }
   ],
   "source": [
    "from sklearn.naive_bayes import MultinomialNB\n",
    "from sklearn.svm import LinearSVC\n",
    "nb = MultinomialNB()\n",
    "nb.fit(X_train,y_train)\n",
    "y_pred = nb.predict(X_val)\n",
    "nb_accuracy = accuracy_score(y_val,y_pred)\n",
    "print (str(nb_accuracy)+(\" is the accuracy of the Naive Bayes model\"))\n",
    "\n",
    "\n",
    "# Implementing Linear SVM model\n",
    "lsvm = LinearSVC(random_state=0)\n",
    "lsvm.fit(X_train, y_train)\n",
    "y_pred = lsvm.predict(X_val)\n",
    "lsvm_accuracy = accuracy_score(y_val,y_pred)\n",
    "print (str(lsvm_accuracy)+(\" is the accuracy of the LinearSVC model\"))"
   ]
  },
  {
   "cell_type": "markdown",
   "metadata": {},
   "source": [
    "## lets check validation of test data"
   ]
  },
  {
   "cell_type": "code",
   "execution_count": 135,
   "metadata": {},
   "outputs": [
    {
     "data": {
      "text/plain": [
       "message      0\n",
       "food         0\n",
       "recharge     0\n",
       "support      0\n",
       "reminders    0\n",
       "travel       0\n",
       "nearby       0\n",
       "movies       0\n",
       "casual       0\n",
       "other        0\n",
       "dtype: int64"
      ]
     },
     "execution_count": 135,
     "metadata": {},
     "output_type": "execute_result"
    }
   ],
   "source": [
    "\n",
    "df_test=pd.read_csv('C:/Users/RUPA/Downloads/haptiktestdata.csv')\n",
    "df_test.isnull().sum()"
   ]
  },
  {
   "cell_type": "code",
   "execution_count": 136,
   "metadata": {},
   "outputs": [],
   "source": [
    "#Creating the new column category\n",
    "df_test[\"category\"] = df_test.apply (lambda row: label_race (row),axis=1)\n",
    "\n"
   ]
  },
  {
   "cell_type": "code",
   "execution_count": 137,
   "metadata": {},
   "outputs": [
    {
     "data": {
      "text/html": [
       "<div>\n",
       "<style scoped>\n",
       "    .dataframe tbody tr th:only-of-type {\n",
       "        vertical-align: middle;\n",
       "    }\n",
       "\n",
       "    .dataframe tbody tr th {\n",
       "        vertical-align: top;\n",
       "    }\n",
       "\n",
       "    .dataframe thead th {\n",
       "        text-align: right;\n",
       "    }\n",
       "</style>\n",
       "<table border=\"1\" class=\"dataframe\">\n",
       "  <thead>\n",
       "    <tr style=\"text-align: right;\">\n",
       "      <th></th>\n",
       "      <th>message</th>\n",
       "      <th>food</th>\n",
       "      <th>recharge</th>\n",
       "      <th>support</th>\n",
       "      <th>reminders</th>\n",
       "      <th>travel</th>\n",
       "      <th>nearby</th>\n",
       "      <th>movies</th>\n",
       "      <th>casual</th>\n",
       "      <th>other</th>\n",
       "      <th>category</th>\n",
       "    </tr>\n",
       "  </thead>\n",
       "  <tbody>\n",
       "    <tr>\n",
       "      <th>0</th>\n",
       "      <td>Nearest metro station</td>\n",
       "      <td>F</td>\n",
       "      <td>F</td>\n",
       "      <td>F</td>\n",
       "      <td>F</td>\n",
       "      <td>F</td>\n",
       "      <td>T</td>\n",
       "      <td>F</td>\n",
       "      <td>F</td>\n",
       "      <td>F</td>\n",
       "      <td>nearby</td>\n",
       "    </tr>\n",
       "    <tr>\n",
       "      <th>1</th>\n",
       "      <td>Pick up n drop service trough cab</td>\n",
       "      <td>F</td>\n",
       "      <td>F</td>\n",
       "      <td>F</td>\n",
       "      <td>F</td>\n",
       "      <td>T</td>\n",
       "      <td>F</td>\n",
       "      <td>F</td>\n",
       "      <td>F</td>\n",
       "      <td>F</td>\n",
       "      <td>travel</td>\n",
       "    </tr>\n",
       "    <tr>\n",
       "      <th>2</th>\n",
       "      <td>I wants to buy a bick</td>\n",
       "      <td>F</td>\n",
       "      <td>F</td>\n",
       "      <td>F</td>\n",
       "      <td>F</td>\n",
       "      <td>F</td>\n",
       "      <td>F</td>\n",
       "      <td>F</td>\n",
       "      <td>F</td>\n",
       "      <td>T</td>\n",
       "      <td>other</td>\n",
       "    </tr>\n",
       "    <tr>\n",
       "      <th>3</th>\n",
       "      <td>Show me pizza</td>\n",
       "      <td>T</td>\n",
       "      <td>F</td>\n",
       "      <td>F</td>\n",
       "      <td>F</td>\n",
       "      <td>F</td>\n",
       "      <td>F</td>\n",
       "      <td>F</td>\n",
       "      <td>F</td>\n",
       "      <td>F</td>\n",
       "      <td>food</td>\n",
       "    </tr>\n",
       "    <tr>\n",
       "      <th>4</th>\n",
       "      <td>What is the cheapest package to andaman and ni...</td>\n",
       "      <td>F</td>\n",
       "      <td>F</td>\n",
       "      <td>F</td>\n",
       "      <td>F</td>\n",
       "      <td>T</td>\n",
       "      <td>F</td>\n",
       "      <td>F</td>\n",
       "      <td>F</td>\n",
       "      <td>F</td>\n",
       "      <td>travel</td>\n",
       "    </tr>\n",
       "  </tbody>\n",
       "</table>\n",
       "</div>"
      ],
      "text/plain": [
       "                                             message food recharge support  \\\n",
       "0                              Nearest metro station    F        F       F   \n",
       "1                  Pick up n drop service trough cab    F        F       F   \n",
       "2                              I wants to buy a bick    F        F       F   \n",
       "3                                      Show me pizza    T        F       F   \n",
       "4  What is the cheapest package to andaman and ni...    F        F       F   \n",
       "\n",
       "  reminders travel nearby movies casual other category  \n",
       "0         F      F      T      F      F     F   nearby  \n",
       "1         F      T      F      F      F     F   travel  \n",
       "2         F      F      F      F      F     T    other  \n",
       "3         F      F      F      F      F     F     food  \n",
       "4         F      T      F      F      F     F   travel  "
      ]
     },
     "execution_count": 137,
     "metadata": {},
     "output_type": "execute_result"
    }
   ],
   "source": [
    "df_test.head()"
   ]
  },
  {
   "cell_type": "code",
   "execution_count": 138,
   "metadata": {},
   "outputs": [
    {
     "name": "stdout",
     "output_type": "stream",
     "text": [
      "0.77 is the accuracy of the logistic regression model\n",
      "0.6839 is the accuracy of the Naive Bayes model\n",
      "0.7604 is the accuracy of the LinearSVC model\n"
     ]
    }
   ],
   "source": [
    "#Dropping the other columns\n",
    "drop= [\"food\", \"recharge\", \"support\", \"reminders\", \"nearby\", \"movies\", \"casual\", \"other\", \"travel\"]\n",
    "df_test=  df_test.drop(drop,1)\n",
    "\n",
    "\n",
    "all_text=df_test['message'].str.lower()\n",
    "X_test=tfidf.transform(all_text)\n",
    "y_test=le.transform(df_test['category'])\n",
    "y_pred=log_reg.predict(X_test)\n",
    "log_accuracy_2=accuracy_score(y_pred,y_test)\n",
    "print (str(log_accuracy_2)+(\" is the accuracy of the logistic regression model\"))\n",
    "\n",
    "y_pred2 = nb.predict(X_test)\n",
    "nb_accuracy_2 = accuracy_score(y_test,y_pred2)\n",
    "print (str(nb_accuracy_2)+(\" is the accuracy of the Naive Bayes model\"))\n",
    "\n",
    "\n",
    "# Implementing Linear SVM model\n",
    "\n",
    "y_pred3 = lsvm.predict(X_test)\n",
    "lsvm_accuracy_2 = accuracy_score(y_test,y_pred3)\n",
    "print (str(lsvm_accuracy_2)+(\" is the accuracy of the LinearSVC model\"))"
   ]
  },
  {
   "cell_type": "code",
   "execution_count": 139,
   "metadata": {},
   "outputs": [
    {
     "data": {
      "text/plain": [
       "array([3, 7, 4, ..., 0, 4, 4])"
      ]
     },
     "execution_count": 139,
     "metadata": {},
     "output_type": "execute_result"
    }
   ],
   "source": [
    "y_pred"
   ]
  },
  {
   "cell_type": "markdown",
   "metadata": {},
   "source": [
    "## TOPIC MODELLING USING GENSIM"
   ]
  },
  {
   "cell_type": "code",
   "execution_count": 140,
   "metadata": {},
   "outputs": [
    {
     "name": "stdout",
     "output_type": "stream",
     "text": [
      "Requirement already satisfied: gensim in c:\\users\\rupa\\anaconda3\\lib\\site-packages (3.8.3)\n",
      "Requirement already satisfied: scipy>=0.18.1 in c:\\users\\rupa\\anaconda3\\lib\\site-packages (from gensim) (1.2.1)\n",
      "Requirement already satisfied: smart-open>=1.8.1 in c:\\users\\rupa\\anaconda3\\lib\\site-packages (from gensim) (2.0.0)\n",
      "Requirement already satisfied: Cython==0.29.14 in c:\\users\\rupa\\anaconda3\\lib\\site-packages (from gensim) (0.29.14)\n",
      "Requirement already satisfied: numpy>=1.11.3 in c:\\users\\rupa\\anaconda3\\lib\\site-packages (from gensim) (1.16.2)\n",
      "Requirement already satisfied: six>=1.5.0 in c:\\users\\rupa\\anaconda3\\lib\\site-packages (from gensim) (1.12.0)\n",
      "Requirement already satisfied: boto in c:\\users\\rupa\\anaconda3\\lib\\site-packages (from smart-open>=1.8.1->gensim) (2.49.0)\n",
      "Requirement already satisfied: boto3 in c:\\users\\rupa\\anaconda3\\lib\\site-packages (from smart-open>=1.8.1->gensim) (1.13.16)\n",
      "Requirement already satisfied: requests in c:\\users\\rupa\\anaconda3\\lib\\site-packages (from smart-open>=1.8.1->gensim) (2.21.0)\n",
      "Requirement already satisfied: s3transfer<0.4.0,>=0.3.0 in c:\\users\\rupa\\anaconda3\\lib\\site-packages (from boto3->smart-open>=1.8.1->gensim) (0.3.3)\n",
      "Requirement already satisfied: botocore<1.17.0,>=1.16.16 in c:\\users\\rupa\\anaconda3\\lib\\site-packages (from boto3->smart-open>=1.8.1->gensim) (1.16.16)\n",
      "Requirement already satisfied: jmespath<1.0.0,>=0.7.1 in c:\\users\\rupa\\anaconda3\\lib\\site-packages (from boto3->smart-open>=1.8.1->gensim) (0.10.0)\n",
      "Requirement already satisfied: idna<2.9,>=2.5 in c:\\users\\rupa\\anaconda3\\lib\\site-packages (from requests->smart-open>=1.8.1->gensim) (2.8)\n",
      "Requirement already satisfied: chardet<3.1.0,>=3.0.2 in c:\\users\\rupa\\anaconda3\\lib\\site-packages (from requests->smart-open>=1.8.1->gensim) (3.0.4)\n",
      "Requirement already satisfied: certifi>=2017.4.17 in c:\\users\\rupa\\anaconda3\\lib\\site-packages (from requests->smart-open>=1.8.1->gensim) (2019.11.28)\n",
      "Requirement already satisfied: urllib3<1.25,>=1.21.1 in c:\\users\\rupa\\anaconda3\\lib\\site-packages (from requests->smart-open>=1.8.1->gensim) (1.24.1)\n",
      "Requirement already satisfied: python-dateutil<3.0.0,>=2.1 in c:\\users\\rupa\\anaconda3\\lib\\site-packages (from botocore<1.17.0,>=1.16.16->boto3->smart-open>=1.8.1->gensim) (2.8.0)\n",
      "Requirement already satisfied: docutils<0.16,>=0.10 in c:\\users\\rupa\\anaconda3\\lib\\site-packages (from botocore<1.17.0,>=1.16.16->boto3->smart-open>=1.8.1->gensim) (0.14)\n"
     ]
    }
   ],
   "source": [
    "! pip install gensim"
   ]
  },
  {
   "cell_type": "code",
   "execution_count": 141,
   "metadata": {},
   "outputs": [],
   "source": [
    "from nltk.corpus import stopwords\n",
    "from nltk.stem.wordnet import WordNetLemmatizer\n",
    "import string\n",
    "import gensim\n",
    "from gensim.models.lsimodel import LsiModel\n",
    "from gensim import corpora\n",
    "from pprint import pprint\n",
    "\n",
    "\n",
    "# Creating a stopwords list\n",
    "stop = set(stopwords.words('english'))\n",
    "exclude = set(string.punctuation)\n",
    "lemma = WordNetLemmatizer()\n",
    "\n",
    "# Function to lemmatize and remove the stopwords\n",
    "def clean(doc):\n",
    "    stop_free = \" \".join([i for i in doc.lower().split() if i not in stop])\n",
    "    punc_free = \"\".join(ch for ch in stop_free if ch not in exclude)\n",
    "    normalized = \" \".join(lemma.lemmatize(word) for word in punc_free.split())\n",
    "    return normalized\n",
    "\n",
    "# Creating a list of documents from the complaints column\n",
    "list_of_docs = df[\"message\"].tolist()\n",
    "\n",
    "# Implementing the function for all the complaints of list_of_docs\n",
    "doc_clean = [clean(doc).split() for doc in list_of_docs]\n",
    "\n",
    "# dictionary of corpora\n",
    "dictionary = corpora.Dictionary(doc_clean)\n",
    "# Creating the corpus\n",
    "doc_term_matrix = [dictionary.doc2bow(doc) for doc in doc_clean]\n",
    "\n"
   ]
  },
  {
   "cell_type": "markdown",
   "metadata": {},
   "source": [
    "## TOPIC MODELLING USING LATENT SEMANTIC INDEXING"
   ]
  },
  {
   "cell_type": "markdown",
   "metadata": {},
   "source": [
    "Parameters:\n",
    "1. **corpus ({iterable of list of (int, float), scipy.sparse.csc}, optional)** – Stream of document vectors or sparse matrix of shape (num_terms, num_documents). If not given, the model is left untrained (presumably because you want to call update() manually).\n",
    "\n",
    "2. **num_topics (int, optional)** – The number of requested latent topics to be extracted from the training corpus.\n",
    "\n",
    "3. **id2word ({dict of (int, str), gensim.corpora.dictionary.Dictionary})** – Mapping from word IDs to words. It is used to determine the vocabulary size, as well as for debugging and topic printing.\n",
    "\n"
   ]
  },
  {
   "cell_type": "code",
   "execution_count": 142,
   "metadata": {},
   "outputs": [
    {
     "name": "stdout",
     "output_type": "stream",
     "text": [
      "[(0,\n",
      "  '-0.347*\"reminder\" + -0.267*\"like\" + -0.267*\"cancel\" + -0.266*\"would\" + '\n",
      "  '-0.256*\"exotel\" + -0.256*\"apiname\" + -0.256*\"userid\" + -0.256*\"offset\" + '\n",
      "  '-0.255*\"taskname\" + -0.255*\"reminderlist\"'),\n",
      " (1,\n",
      "  '-0.831*\"want\" + -0.221*\"u\" + -0.187*\"know\" + -0.181*\"movie\" + -0.135*\"book\" '\n",
      "  '+ -0.128*\"ticket\" + -0.114*\"need\" + -0.108*\"hi\" + -0.096*\"please\" + '\n",
      "  '-0.092*\"service\"'),\n",
      " (2,\n",
      "  '-0.451*\"reminder\" + 0.328*\"call\" + 0.316*\"u\" + 0.232*\"wake\" + '\n",
      "  '-0.204*\"water\" + 0.197*\"march\" + 0.192*\"wakeup\" + -0.186*\"every\" + '\n",
      "  '-0.181*\"drink\" + -0.168*\"want\"'),\n",
      " (3,\n",
      "  '-0.611*\"u\" + 0.419*\"want\" + -0.244*\"need\" + -0.238*\"reminder\" + '\n",
      "  '-0.197*\"please\" + -0.143*\"movie\" + -0.117*\"service\" + 0.102*\"wake\" + '\n",
      "  '-0.101*\"near\" + -0.101*\"help\"'),\n",
      " (4,\n",
      "  '0.622*\"need\" + -0.510*\"u\" + 0.491*\"movie\" + 0.189*\"offer\" + -0.137*\"want\" + '\n",
      "  '0.116*\"ticket\" + 0.058*\"know\" + 0.052*\"today\" + -0.051*\"find\" + '\n",
      "  '0.049*\"book\"')]\n"
     ]
    }
   ],
   "source": [
    "# Creating the LSi model\n",
    "lsimodel = LsiModel(corpus=doc_term_matrix, num_topics=5, id2word=dictionary)\n",
    "pprint(lsimodel.print_topics())"
   ]
  },
  {
   "cell_type": "markdown",
   "metadata": {},
   "source": [
    "## TOPIC MODELLING WITH  LDA (Latent Dirichlet allocation)"
   ]
  },
  {
   "cell_type": "code",
   "execution_count": 143,
   "metadata": {},
   "outputs": [],
   "source": [
    "from gensim.models import LdaModel\n",
    "from gensim.models import CoherenceModel\n",
    "\n"
   ]
  },
  {
   "cell_type": "markdown",
   "metadata": {},
   "source": [
    "coherencevalues() trains multiple LDA models and provides the models and their corresponding coherence scores."
   ]
  },
  {
   "cell_type": "code",
   "execution_count": 144,
   "metadata": {},
   "outputs": [],
   "source": [
    "# Function to calculate coherence values\n",
    "def compute_coherence_values(dictionary, corpus, texts, limit, start=2, step=3):\n",
    "    \"\"\"\n",
    "    Compute c_v coherence for various number of topics\n",
    "\n",
    "    Parameters:\n",
    "    ----------\n",
    "    dictionary : Gensim dictionary\n",
    "    corpus : Gensim corpus\n",
    "    texts : List of input texts\n",
    "    limit : Max num of topics\n",
    "\n",
    "    Returns:\n",
    "    -------\n",
    "    topic_list : No. of topics chosen\n",
    "    coherence_values : Coherence values corresponding to the LDA model with respective number of topics\n",
    "    \"\"\"\n",
    "    coherence_values = []\n",
    "    topic_list = []\n",
    "    for num_topics in range(start, limit, step):\n",
    "        model = gensim.models.ldamodel.LdaModel(doc_term_matrix, random_state = 0, num_topics=num_topics, id2word = dictionary, iterations=10)\n",
    "        topic_list.append(num_topics)\n",
    "        coherencemodel = CoherenceModel(model=model, texts=texts, dictionary=dictionary, coherence='c_v')\n",
    "        coherence_values.append(coherencemodel.get_coherence())\n",
    "\n",
    "    return topic_list, coherence_values\n",
    "\n",
    "\n"
   ]
  },
  {
   "cell_type": "code",
   "execution_count": 146,
   "metadata": {},
   "outputs": [
    {
     "name": "stdout",
     "output_type": "stream",
     "text": [
      "[0.3287476298674388, 0.4781725872247256, 0.46115894529180984, 0.5253656906944698, 0.5285224478360521, 0.5593474153069067, 0.5595998259747449, 0.5761708096054737]\n"
     ]
    }
   ],
   "source": [
    "# Calling the function\n",
    "topic_list, coherence_value_list = compute_coherence_values(dictionary=dictionary, corpus=doc_term_matrix, texts=doc_clean, start=1, limit=41, step=5)\n",
    "print(coherence_value_list)\n"
   ]
  },
  {
   "cell_type": "code",
   "execution_count": 147,
   "metadata": {},
   "outputs": [
    {
     "data": {
      "image/png": "[encoded data removed]",
      "text/plain": [
       "<Figure size 504x504 with 1 Axes>"
      ]
     },
     "metadata": {},
     "output_type": "display_data"
    }
   ],
   "source": [
    "import seaborn as sns\n",
    "\n",
    "limit=41; start=2; step=5;\n",
    "x = range(start, limit, step)\n",
    "\n",
    "# Setting the plotting area\n",
    "sns.set_style(\"darkgrid\")\n",
    "fig, ax = plt.subplots(figsize=(7,7))\n",
    "plt.plot(x, coherence_value_list)\n",
    "\n",
    "# Labelling the axes\n",
    "plt.xlabel(\"Num Topics\")\n",
    "plt.ylabel(\"Coherence score\")\n",
    "plt.title(\"Coherence vs Number of Topics\")\n",
    "plt.show()"
   ]
  },
  {
   "cell_type": "code",
   "execution_count": 148,
   "metadata": {},
   "outputs": [
    {
     "name": "stdout",
     "output_type": "stream",
     "text": [
      "Num Topics = 2  has Coherence Value of 0.3287\n",
      "Num Topics = 7  has Coherence Value of 0.4782\n",
      "Num Topics = 12  has Coherence Value of 0.4612\n",
      "Num Topics = 17  has Coherence Value of 0.5254\n",
      "Num Topics = 22  has Coherence Value of 0.5285\n",
      "Num Topics = 27  has Coherence Value of 0.5593\n",
      "Num Topics = 32  has Coherence Value of 0.5596\n",
      "Num Topics = 37  has Coherence Value of 0.5762\n"
     ]
    }
   ],
   "source": [
    "for m, cv in zip(x, coherence_value_list):\n",
    "    print(\"Num Topics =\", m, \" has Coherence Value of\", round(cv, 4))"
   ]
  },
  {
   "cell_type": "code",
   "execution_count": 149,
   "metadata": {},
   "outputs": [
    {
     "name": "stdout",
     "output_type": "stream",
     "text": [
      "Optimum no. of topics: 36\n"
     ]
    }
   ],
   "source": [
    "max_index=coherence_value_list.index(max(coherence_value_list))\n",
    "\n",
    "# Finding the optimum no. of topics associated with the maximum coherence value\n",
    "opt_topic= topic_list[max_index]\n",
    "print(\"Optimum no. of topics:\", opt_topic)\n"
   ]
  },
  {
   "cell_type": "markdown",
   "metadata": {},
   "source": [
    "## EVALUATING THE LDA MODEL"
   ]
  },
  {
   "cell_type": "markdown",
   "metadata": {},
   "source": [
    "Intuitively, topic coherence is calculated by combining the pairwise scores between the words that are used to form the topic. Different topic coherence measures use different scoring mechanisms to calculate the score. **Higher the coherence score, better the model. In gensim we can call the topic coherence as follows**\n",
    "\n",
    "CoherenceModel(model=ldamodel, texts=docs, dictionary=dictionary, coherence='c_v')"
   ]
  },
  {
   "cell_type": "code",
   "execution_count": 150,
   "metadata": {},
   "outputs": [
    {
     "name": "stdout",
     "output_type": "stream",
     "text": [
      "0.6428178176321784\n"
     ]
    }
   ],
   "source": [
    "from gensim.models.coherencemodel import CoherenceModel\n",
    "\n",
    "# Compute Perplexity\n",
    "perplexity_lda=lda_model.log_perplexity(doc_term_matrix)\n",
    "coherence_model_lda=CoherenceModel(model=lda_model, texts=doc_clean, dictionary=dictionary, coherence='c_v')\n",
    "\n",
    "# Compute Coherence Score\n",
    "coherence_lda=coherence_model_lda.get_coherence()\n",
    "print(coherence_lda)"
   ]
  },
  {
   "cell_type": "code",
   "execution_count": 151,
   "metadata": {},
   "outputs": [
    {
     "name": "stdout",
     "output_type": "stream",
     "text": [
      "[(3,\n",
      "  '0.197*\"tell\" + 0.114*\"nearby\" + 0.097*\"hotel\" + 0.086*\"looking\" + '\n",
      "  '0.047*\"home\" + 0.041*\"u\" + 0.030*\"delivery\" + 0.022*\"domino\" + 0.013*\"veg\" '\n",
      "  '+ 0.013*\"restaurant\"'),\n",
      " (24,\n",
      "  '0.251*\"know\" + 0.168*\"want\" + 0.094*\"buy\" + 0.052*\"bangalore\" + '\n",
      "  '0.049*\"cheapest\" + 0.041*\"let\" + 0.031*\"city\" + 0.030*\"whats\" + 0.011*\"u\" + '\n",
      "  '0.010*\"available\"'),\n",
      " (4,\n",
      "  '0.226*\"number\" + 0.081*\"shop\" + 0.064*\"store\" + 0.060*\"hyderabad\" + '\n",
      "  '0.032*\"sunday\" + 0.025*\"great\" + 0.022*\"3rd\" + 0.020*\"u\" + 0.017*\"window\" + '\n",
      "  '0.015*\"door\"'),\n",
      " (19,\n",
      "  '0.306*\"train\" + 0.136*\"help\" + 0.098*\"hey\" + 0.077*\"best\" + 0.038*\"u\" + '\n",
      "  '0.020*\"getting\" + 0.020*\"15\" + 0.018*\"working\" + 0.018*\"link\" + '\n",
      "  '0.014*\"icici\"'),\n",
      " (32,\n",
      "  '0.244*\"service\" + 0.203*\"delhi\" + 0.115*\"new\" + 0.079*\"centre\" + '\n",
      "  '0.036*\"night\" + 0.018*\"meeting\" + 0.006*\"regular\" + 0.006*\"include\" + '\n",
      "  '0.005*\"picture\" + 0.005*\"breakfast\"')]\n"
     ]
    }
   ],
   "source": [
    "pprint(lda_model.print_topics(5))\n"
   ]
  },
  {
   "cell_type": "markdown",
   "metadata": {},
   "source": [
    "### VISUALIZING THE TOPICS USING pyLDAvis"
   ]
  },
  {
   "cell_type": "code",
   "execution_count": 152,
   "metadata": {},
   "outputs": [
    {
     "name": "stdout",
     "output_type": "stream",
     "text": [
      "Requirement already satisfied: pyLDAvis in c:\\users\\rupa\\anaconda3\\lib\\site-packages (2.1.2)\n",
      "Requirement already satisfied: scipy>=0.18.0 in c:\\users\\rupa\\anaconda3\\lib\\site-packages (from pyLDAvis) (1.2.1)\n",
      "Requirement already satisfied: wheel>=0.23.0 in c:\\users\\rupa\\anaconda3\\lib\\site-packages (from pyLDAvis) (0.33.1)\n",
      "Requirement already satisfied: jinja2>=2.7.2 in c:\\users\\rupa\\anaconda3\\lib\\site-packages (from pyLDAvis) (2.10)\n",
      "Requirement already satisfied: pytest in c:\\users\\rupa\\anaconda3\\lib\\site-packages (from pyLDAvis) (4.3.1)\n",
      "Requirement already satisfied: numexpr in c:\\users\\rupa\\anaconda3\\lib\\site-packages (from pyLDAvis) (2.6.9)\n",
      "Requirement already satisfied: joblib>=0.8.4 in c:\\users\\rupa\\anaconda3\\lib\\site-packages (from pyLDAvis) (0.14.1)\n",
      "Requirement already satisfied: pandas>=0.17.0 in c:\\users\\rupa\\anaconda3\\lib\\site-packages (from pyLDAvis) (0.24.2)\n",
      "Requirement already satisfied: funcy in c:\\users\\rupa\\anaconda3\\lib\\site-packages (from pyLDAvis) (1.14)\n",
      "Requirement already satisfied: future in c:\\users\\rupa\\anaconda3\\lib\\site-packages (from pyLDAvis) (0.17.1)\n",
      "Requirement already satisfied: numpy>=1.9.2 in c:\\users\\rupa\\anaconda3\\lib\\site-packages (from pyLDAvis) (1.16.2)\n",
      "Requirement already satisfied: MarkupSafe>=0.23 in c:\\users\\rupa\\anaconda3\\lib\\site-packages (from jinja2>=2.7.2->pyLDAvis) (1.1.1)\n",
      "Requirement already satisfied: py>=1.5.0 in c:\\users\\rupa\\anaconda3\\lib\\site-packages (from pytest->pyLDAvis) (1.8.0)\n",
      "Requirement already satisfied: six>=1.10.0 in c:\\users\\rupa\\anaconda3\\lib\\site-packages (from pytest->pyLDAvis) (1.12.0)\n",
      "Requirement already satisfied: setuptools in c:\\users\\rupa\\anaconda3\\lib\\site-packages (from pytest->pyLDAvis) (40.8.0)\n",
      "Requirement already satisfied: attrs>=17.4.0 in c:\\users\\rupa\\anaconda3\\lib\\site-packages (from pytest->pyLDAvis) (19.1.0)\n",
      "Requirement already satisfied: atomicwrites>=1.0 in c:\\users\\rupa\\anaconda3\\lib\\site-packages (from pytest->pyLDAvis) (1.3.0)\n",
      "Requirement already satisfied: pluggy>=0.7 in c:\\users\\rupa\\anaconda3\\lib\\site-packages (from pytest->pyLDAvis) (0.9.0)\n",
      "Requirement already satisfied: more-itertools>=4.0.0 in c:\\users\\rupa\\anaconda3\\lib\\site-packages (from pytest->pyLDAvis) (6.0.0)\n",
      "Requirement already satisfied: colorama in c:\\users\\rupa\\anaconda3\\lib\\site-packages (from pytest->pyLDAvis) (0.4.1)\n",
      "Requirement already satisfied: pytz>=2011k in c:\\users\\rupa\\anaconda3\\lib\\site-packages (from pandas>=0.17.0->pyLDAvis) (2018.9)\n",
      "Requirement already satisfied: python-dateutil>=2.5.0 in c:\\users\\rupa\\anaconda3\\lib\\site-packages (from pandas>=0.17.0->pyLDAvis) (2.8.0)\n"
     ]
    }
   ],
   "source": [
    "! pip install pyLDAvis "
   ]
  },
  {
   "cell_type": "code",
   "execution_count": null,
   "metadata": {},
   "outputs": [],
   "source": [
    "import pyLDAvis\n",
    "import pyLDAvis.gensim \n",
    "\n",
    "pyLDAvis.enable_notebook()\n",
    "vis = pyLDAvis.gensim.prepare(lda_model, doc_term_matrix, dictionary)"
   ]
  },
  {
   "cell_type": "markdown",
   "metadata": {},
   "source": [
    "## How to infer pyLDAvis’s output?\n",
    "\n",
    "1. Each bubble on the left-hand side plot represents a topic. The larger the bubble, the more prevalent is that topic. A good topic model will have fairly big, non-overlapping bubbles scattered throughout the chart instead of being clustered in one quadrant.\n",
    "\n",
    "2. A model with too many topics, will typically have many overlaps, small sized bubbles clustered in one region of the chart.\n",
    "\n",
    "3. Move the cursor over one of the bubbles, the words and bars on the right-hand side will get updated. These words are the salient keywords that form the selected topic. "
   ]
  },
  {
   "cell_type": "code",
   "execution_count": null,
   "metadata": {},
   "outputs": [],
   "source": [
    "vis"
   ]
  },
  {
   "cell_type": "code",
   "execution_count": 155,
   "metadata": {},
   "outputs": [
    {
     "data": {
      "text/html": [
       "<div>\n",
       "<style scoped>\n",
       "    .dataframe tbody tr th:only-of-type {\n",
       "        vertical-align: middle;\n",
       "    }\n",
       "\n",
       "    .dataframe tbody tr th {\n",
       "        vertical-align: top;\n",
       "    }\n",
       "\n",
       "    .dataframe thead th {\n",
       "        text-align: right;\n",
       "    }\n",
       "</style>\n",
       "<table border=\"1\" class=\"dataframe\">\n",
       "  <thead>\n",
       "    <tr style=\"text-align: right;\">\n",
       "      <th></th>\n",
       "      <th>Document_No</th>\n",
       "      <th>Dominant_Topic</th>\n",
       "      <th>Topic_Perc_Contrib</th>\n",
       "      <th>Keywords</th>\n",
       "      <th>Text</th>\n",
       "    </tr>\n",
       "  </thead>\n",
       "  <tbody>\n",
       "    <tr>\n",
       "      <th>0</th>\n",
       "      <td>0</td>\n",
       "      <td>0.0</td>\n",
       "      <td>0.0278</td>\n",
       "      <td>like, would, sir, kya, till, open, case, live,...</td>\n",
       "      <td>[others]</td>\n",
       "    </tr>\n",
       "    <tr>\n",
       "      <th>1</th>\n",
       "      <td>1</td>\n",
       "      <td>19.0</td>\n",
       "      <td>0.4036</td>\n",
       "      <td>train, help, hey, best, u, getting, 15, workin...</td>\n",
       "      <td>[u, please, help]</td>\n",
       "    </tr>\n",
       "    <tr>\n",
       "      <th>2</th>\n",
       "      <td>2</td>\n",
       "      <td>19.0</td>\n",
       "      <td>0.2569</td>\n",
       "      <td>train, help, hey, best, u, getting, 15, workin...</td>\n",
       "      <td>[tapped, mistake, thanks, help]</td>\n",
       "    </tr>\n",
       "    <tr>\n",
       "      <th>3</th>\n",
       "      <td>3</td>\n",
       "      <td>20.0</td>\n",
       "      <td>0.5139</td>\n",
       "      <td>call, 800, nearest, ok, pizza, problem, ke, ho...</td>\n",
       "      <td>[yaar]</td>\n",
       "    </tr>\n",
       "    <tr>\n",
       "      <th>4</th>\n",
       "      <td>4</td>\n",
       "      <td>14.0</td>\n",
       "      <td>0.7569</td>\n",
       "      <td>detail, received, note, mean, ask, branch, peo...</td>\n",
       "      <td>[careless, u, people]</td>\n",
       "    </tr>\n",
       "    <tr>\n",
       "      <th>5</th>\n",
       "      <td>5</td>\n",
       "      <td>17.0</td>\n",
       "      <td>0.6759</td>\n",
       "      <td>2, plz, day, morning, card, hr, search, care, ...</td>\n",
       "      <td>[u, search]</td>\n",
       "    </tr>\n",
       "    <tr>\n",
       "      <th>6</th>\n",
       "      <td>6</td>\n",
       "      <td>16.0</td>\n",
       "      <td>0.3426</td>\n",
       "      <td>need, first, much, thank, no, n, information, ...</td>\n",
       "      <td>[need, help]</td>\n",
       "    </tr>\n",
       "    <tr>\n",
       "      <th>7</th>\n",
       "      <td>7</td>\n",
       "      <td>0.0</td>\n",
       "      <td>0.0278</td>\n",
       "      <td>like, would, sir, kya, till, open, case, live,...</td>\n",
       "      <td>[deepz]</td>\n",
       "    </tr>\n",
       "    <tr>\n",
       "      <th>8</th>\n",
       "      <td>8</td>\n",
       "      <td>16.0</td>\n",
       "      <td>0.2569</td>\n",
       "      <td>need, first, much, thank, no, n, information, ...</td>\n",
       "      <td>[sorry, done, need]</td>\n",
       "    </tr>\n",
       "    <tr>\n",
       "      <th>9</th>\n",
       "      <td>9</td>\n",
       "      <td>18.0</td>\n",
       "      <td>0.4056</td>\n",
       "      <td>phone, thanks, road, ahmedabad, company, 6th, ...</td>\n",
       "      <td>[thanks, offer, right, thanks]</td>\n",
       "    </tr>\n",
       "  </tbody>\n",
       "</table>\n",
       "</div>"
      ],
      "text/plain": [
       "   Document_No  Dominant_Topic  Topic_Perc_Contrib  \\\n",
       "0            0             0.0              0.0278   \n",
       "1            1            19.0              0.4036   \n",
       "2            2            19.0              0.2569   \n",
       "3            3            20.0              0.5139   \n",
       "4            4            14.0              0.7569   \n",
       "5            5            17.0              0.6759   \n",
       "6            6            16.0              0.3426   \n",
       "7            7             0.0              0.0278   \n",
       "8            8            16.0              0.2569   \n",
       "9            9            18.0              0.4056   \n",
       "\n",
       "                                            Keywords  \\\n",
       "0  like, would, sir, kya, till, open, case, live,...   \n",
       "1  train, help, hey, best, u, getting, 15, workin...   \n",
       "2  train, help, hey, best, u, getting, 15, workin...   \n",
       "3  call, 800, nearest, ok, pizza, problem, ke, ho...   \n",
       "4  detail, received, note, mean, ask, branch, peo...   \n",
       "5  2, plz, day, morning, card, hr, search, care, ...   \n",
       "6  need, first, much, thank, no, n, information, ...   \n",
       "7  like, would, sir, kya, till, open, case, live,...   \n",
       "8  need, first, much, thank, no, n, information, ...   \n",
       "9  phone, thanks, road, ahmedabad, company, 6th, ...   \n",
       "\n",
       "                              Text  \n",
       "0                         [others]  \n",
       "1                [u, please, help]  \n",
       "2  [tapped, mistake, thanks, help]  \n",
       "3                           [yaar]  \n",
       "4            [careless, u, people]  \n",
       "5                      [u, search]  \n",
       "6                     [need, help]  \n",
       "7                          [deepz]  \n",
       "8              [sorry, done, need]  \n",
       "9   [thanks, offer, right, thanks]  "
      ]
     },
     "execution_count": 155,
     "metadata": {},
     "output_type": "execute_result"
    }
   ],
   "source": [
    "def format_topics_sentences(ldamodel=lda_model, corpus=doc_term_matrix, texts=doc_clean):\n",
    "    # Init output\n",
    "    sent_topics_df = pd.DataFrame()\n",
    "\n",
    "    # Get main topic in each document\n",
    "    for i, row in enumerate(ldamodel[corpus]):\n",
    "        row = sorted(row, key=lambda x: (x[1]), reverse=True)\n",
    "        # Get the Dominant topic, Perc Contribution and Keywords for each document\n",
    "        for j, (topic_num, prop_topic) in enumerate(row):\n",
    "            if j == 0:  # => dominant topic\n",
    "                wp = ldamodel.show_topic(topic_num)\n",
    "                topic_keywords = \", \".join([word for word, prop in wp])\n",
    "                sent_topics_df = sent_topics_df.append(pd.Series([int(topic_num), round(prop_topic,4), topic_keywords]), ignore_index=True)\n",
    "            else:\n",
    "                break\n",
    "    sent_topics_df.columns = ['Dominant_Topic', 'Perc_Contribution', 'Topic_Keywords']\n",
    "\n",
    "    # Add original text to the end of the output\n",
    "    contents = pd.Series(texts)\n",
    "    sent_topics_df = pd.concat([sent_topics_df, contents], axis=1)\n",
    "    return(sent_topics_df)\n",
    "\n",
    "\n",
    "df_topic_sents_keywords = format_topics_sentences(ldamodel=lda_model, corpus=doc_term_matrix, texts=doc_clean)\n",
    "\n",
    "# Format\n",
    "df_dominant_topic = df_topic_sents_keywords.reset_index()\n",
    "df_dominant_topic.columns = ['Document_No', 'Dominant_Topic', 'Topic_Perc_Contrib', 'Keywords', 'Text']\n",
    "\n",
    "# Finding the dominant topic in each sentence\n",
    "df_dominant_topic.head(10)"
   ]
  },
  {
   "cell_type": "code",
   "execution_count": 156,
   "metadata": {},
   "outputs": [
    {
     "data": {
      "text/html": [
       "<div>\n",
       "<style scoped>\n",
       "    .dataframe tbody tr th:only-of-type {\n",
       "        vertical-align: middle;\n",
       "    }\n",
       "\n",
       "    .dataframe tbody tr th {\n",
       "        vertical-align: top;\n",
       "    }\n",
       "\n",
       "    .dataframe thead th {\n",
       "        text-align: right;\n",
       "    }\n",
       "</style>\n",
       "<table border=\"1\" class=\"dataframe\">\n",
       "  <thead>\n",
       "    <tr style=\"text-align: right;\">\n",
       "      <th></th>\n",
       "      <th>Topic_Num</th>\n",
       "      <th>Topic_Perc_Contrib</th>\n",
       "      <th>Keywords</th>\n",
       "      <th>Text</th>\n",
       "    </tr>\n",
       "  </thead>\n",
       "  <tbody>\n",
       "    <tr>\n",
       "      <th>0</th>\n",
       "      <td>0.0</td>\n",
       "      <td>0.6759</td>\n",
       "      <td>like, would, sir, kya, till, open, case, live,...</td>\n",
       "      <td>[santosh, dhaba, veggie]</td>\n",
       "    </tr>\n",
       "    <tr>\n",
       "      <th>1</th>\n",
       "      <td>1.0</td>\n",
       "      <td>0.8380</td>\n",
       "      <td>near, location, place, restaurant, timing, me,...</td>\n",
       "      <td>[multi, cuisine, restaurant, lower, parel]</td>\n",
       "    </tr>\n",
       "    <tr>\n",
       "      <th>2</th>\n",
       "      <td>2.0</td>\n",
       "      <td>0.7569</td>\n",
       "      <td>offer, send, back, pune, 10, kolkata, later, m...</td>\n",
       "      <td>[anything, rajasthani, kolkata]</td>\n",
       "    </tr>\n",
       "    <tr>\n",
       "      <th>3</th>\n",
       "      <td>3.0</td>\n",
       "      <td>0.8380</td>\n",
       "      <td>tell, nearby, hotel, looking, home, u, deliver...</td>\n",
       "      <td>[tell, famous, restaurant, non, veg]</td>\n",
       "    </tr>\n",
       "    <tr>\n",
       "      <th>4</th>\n",
       "      <td>4.0</td>\n",
       "      <td>0.7569</td>\n",
       "      <td>number, shop, store, hyderabad, sunday, great,...</td>\n",
       "      <td>[thanx, u, mucj]</td>\n",
       "    </tr>\n",
       "    <tr>\n",
       "      <th>5</th>\n",
       "      <td>5.0</td>\n",
       "      <td>0.8056</td>\n",
       "      <td>ticket, movie, available, also, logan, mall, n...</td>\n",
       "      <td>[ticket, available, movie, logan]</td>\n",
       "    </tr>\n",
       "    <tr>\n",
       "      <th>6</th>\n",
       "      <td>6.0</td>\n",
       "      <td>0.8056</td>\n",
       "      <td>sorry, hindi, it, assist, shall, never, half, ...</td>\n",
       "      <td>[sorry, mistake, selected, it]</td>\n",
       "    </tr>\n",
       "    <tr>\n",
       "      <th>7</th>\n",
       "      <td>7.0</td>\n",
       "      <td>0.8380</td>\n",
       "      <td>bus, pm, stop, list, wanted, person, 9, update...</td>\n",
       "      <td>[instead, chicken, given, egg, curry]</td>\n",
       "    </tr>\n",
       "    <tr>\n",
       "      <th>8</th>\n",
       "      <td>8.0</td>\n",
       "      <td>0.7569</td>\n",
       "      <td>find, give, booking, u, nearest, full, okay, t...</td>\n",
       "      <td>[u, just, entertainment]</td>\n",
       "    </tr>\n",
       "    <tr>\n",
       "      <th>9</th>\n",
       "      <td>9.0</td>\n",
       "      <td>0.8379</td>\n",
       "      <td>bill, coupon, code, 4, rate, right, table, per...</td>\n",
       "      <td>[haptic, known, virtual, assistant, right]</td>\n",
       "    </tr>\n",
       "  </tbody>\n",
       "</table>\n",
       "</div>"
      ],
      "text/plain": [
       "   Topic_Num  Topic_Perc_Contrib  \\\n",
       "0        0.0              0.6759   \n",
       "1        1.0              0.8380   \n",
       "2        2.0              0.7569   \n",
       "3        3.0              0.8380   \n",
       "4        4.0              0.7569   \n",
       "5        5.0              0.8056   \n",
       "6        6.0              0.8056   \n",
       "7        7.0              0.8380   \n",
       "8        8.0              0.7569   \n",
       "9        9.0              0.8379   \n",
       "\n",
       "                                            Keywords  \\\n",
       "0  like, would, sir, kya, till, open, case, live,...   \n",
       "1  near, location, place, restaurant, timing, me,...   \n",
       "2  offer, send, back, pune, 10, kolkata, later, m...   \n",
       "3  tell, nearby, hotel, looking, home, u, deliver...   \n",
       "4  number, shop, store, hyderabad, sunday, great,...   \n",
       "5  ticket, movie, available, also, logan, mall, n...   \n",
       "6  sorry, hindi, it, assist, shall, never, half, ...   \n",
       "7  bus, pm, stop, list, wanted, person, 9, update...   \n",
       "8  find, give, booking, u, nearest, full, okay, t...   \n",
       "9  bill, coupon, code, 4, rate, right, table, per...   \n",
       "\n",
       "                                         Text  \n",
       "0                    [santosh, dhaba, veggie]  \n",
       "1  [multi, cuisine, restaurant, lower, parel]  \n",
       "2             [anything, rajasthani, kolkata]  \n",
       "3        [tell, famous, restaurant, non, veg]  \n",
       "4                            [thanx, u, mucj]  \n",
       "5           [ticket, available, movie, logan]  \n",
       "6              [sorry, mistake, selected, it]  \n",
       "7       [instead, chicken, given, egg, curry]  \n",
       "8                    [u, just, entertainment]  \n",
       "9  [haptic, known, virtual, assistant, right]  "
      ]
     },
     "execution_count": 156,
     "metadata": {},
     "output_type": "execute_result"
    }
   ],
   "source": [
    "# Group top 5 sentences under each topic\n",
    "sent_topics_sorteddf_mallet = pd.DataFrame()\n",
    "\n",
    "sent_topics_outdf_grpd = df_topic_sents_keywords.groupby('Dominant_Topic')\n",
    "\n",
    "for i, grp in sent_topics_outdf_grpd:\n",
    "    sent_topics_sorteddf_mallet = pd.concat([sent_topics_sorteddf_mallet, \n",
    "                                             grp.sort_values(['Perc_Contribution'], ascending=[0]).head(1)], \n",
    "                                            axis=0)\n",
    "\n",
    "# Reset Index    \n",
    "sent_topics_sorteddf_mallet.reset_index(drop=True, inplace=True)\n",
    "\n",
    "# Format\n",
    "sent_topics_sorteddf_mallet.columns = ['Topic_Num', \"Topic_Perc_Contrib\", \"Keywords\", \"Text\"]\n",
    "\n",
    "# Show\n",
    "sent_topics_sorteddf_mallet.head(10)"
   ]
  },
  {
   "cell_type": "markdown",
   "metadata": {},
   "source": [
    "## WORD CLOUD VISUALIZATION"
   ]
  },
  {
   "cell_type": "code",
   "execution_count": 157,
   "metadata": {},
   "outputs": [
    {
     "data": {
      "image/png": "[encoded data removed]",
      "text/plain": [
       "<Figure size 720x720 with 4 Axes>"
      ]
     },
     "metadata": {},
     "output_type": "display_data"
    }
   ],
   "source": [
    "from matplotlib import pyplot as plt\n",
    "from wordcloud import WordCloud, STOPWORDS\n",
    "import matplotlib.colors as mcolors\n",
    "\n",
    "cols = [color for name, color in mcolors.TABLEAU_COLORS.items()]  # more colors: 'mcolors.XKCD_COLORS'\n",
    "\n",
    "cloud = WordCloud(stopwords=stopwords,\n",
    "                  background_color='white',\n",
    "                  width=2500,\n",
    "                  height=1800,\n",
    "                  max_words=10,\n",
    "                  colormap='tab10',\n",
    "                  color_func=lambda *args, **kwargs: cols[i],\n",
    "                  prefer_horizontal=1.0)\n",
    "\n",
    "topics = lda_model.show_topics(formatted=False)\n",
    "\n",
    "fig, axes = plt.subplots(2, 2, figsize=(10,10), sharex=True, sharey=True)\n",
    "\n",
    "for i, ax in enumerate(axes.flatten()):\n",
    "    fig.add_subplot(ax)\n",
    "    topic_words = dict(topics[i][1])\n",
    "    cloud.generate_from_frequencies(topic_words, max_font_size=300)\n",
    "    plt.gca().imshow(cloud)\n",
    "    plt.gca().set_title('Topic ' + str(i), fontdict=dict(size=16))\n",
    "    plt.gca().axis('off')\n",
    "\n",
    "\n",
    "plt.subplots_adjust(wspace=0, hspace=0)\n",
    "plt.axis('off')\n",
    "plt.margins(x=0, y=0)\n",
    "plt.tight_layout()\n",
    "\n",
    "plt.show()"
   ]
  }
 ],
 "metadata": {
  "kernelspec": {
   "display_name": "Python 3",
   "language": "python",
   "name": "python3"
  },
  "language_info": {
   "codemirror_mode": {
    "name": "ipython",
    "version": 3
   },
   "file_extension": ".py",
   "mimetype": "text/x-python",
   "name": "python",
   "nbconvert_exporter": "python",
   "pygments_lexer": "ipython3",
   "version": "3.7.3"
  }
 },
 "nbformat": 4,
 "nbformat_minor": 2
}
